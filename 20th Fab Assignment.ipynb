{
 "cells": [
  {
   "cell_type": "markdown",
   "id": "e767e175-27c8-46b3-9aeb-9cc6a65a4459",
   "metadata": {},
   "source": [
    "# 20th Fab Assignment"
   ]
  },
  {
   "cell_type": "code",
   "execution_count": null,
   "id": "91145e86-2392-41ac-8704-829b1f67fe70",
   "metadata": {},
   "outputs": [],
   "source": []
  },
  {
   "cell_type": "code",
   "execution_count": null,
   "id": "67af0e21-3dd0-4fbe-a546-f8db9d2ad888",
   "metadata": {},
   "outputs": [],
   "source": []
  },
  {
   "cell_type": "markdown",
   "id": "8984a790-730b-4345-b1dc-236f0a680c74",
   "metadata": {},
   "source": [
    "Q1. Explain GET and POST methods."
   ]
  },
  {
   "cell_type": "markdown",
   "id": "34ce2190-2f06-48bf-9095-7b82ae888c79",
   "metadata": {},
   "source": [
    "\n",
    "->> GET and POST are HTTP methods used to send and retrieve data over the internet.\n",
    "\n",
    "* GET\n",
    "\n",
    "->> When a GET request is made, the requested data is appended to the URL of the requested resource, making it visible in the browser's address     bar.\n",
    "\n",
    "->> GET requests are generally used for safe, idempotent and cacheable operations like retrieving data, searching, and navigating.\n",
    "\n",
    "* POST\n",
    "\n",
    "->> When a POST request is made, the data is sent in the body of the request rather than in the URL, making it more secure than GET requests.\n",
    "\n",
    "->> POST requests are generally used for non-idempotent and non-cacheable operations like submitting forms, uploading files, and making             payments.\n"
   ]
  },
  {
   "cell_type": "code",
   "execution_count": null,
   "id": "7ccc0b0e-9533-4d6a-bf02-d353367adae9",
   "metadata": {},
   "outputs": [],
   "source": []
  },
  {
   "cell_type": "code",
   "execution_count": null,
   "id": "68e3217a-86d8-4e75-a3e0-bf6019590665",
   "metadata": {},
   "outputs": [],
   "source": []
  },
  {
   "cell_type": "code",
   "execution_count": null,
   "id": "d85a63a5-36fb-457f-b102-bb72970df285",
   "metadata": {},
   "outputs": [],
   "source": []
  },
  {
   "cell_type": "markdown",
   "id": "7915ba4f-2710-4dbc-bc1b-2e5d8c13143a",
   "metadata": {},
   "source": [
    "Q2. Why is request used in Flask?"
   ]
  },
  {
   "cell_type": "markdown",
   "id": "92cb9823-fb97-4c67-b309-bf19d3b582d4",
   "metadata": {},
   "source": [
    "->> When a user submits the form on website ,then request access that form and perform some tasks on it.\n",
    "\n",
    "->> The request object can be used for access and set the cookie.\n",
    "\n",
    "->> The request object is an essential part of Flask that enables developers to handle client requests and retrieve data from them in a flexible     and convenient way."
   ]
  },
  {
   "cell_type": "code",
   "execution_count": null,
   "id": "c8ecb600-ebe9-4fb7-be81-32e94f4e9da2",
   "metadata": {},
   "outputs": [],
   "source": []
  },
  {
   "cell_type": "code",
   "execution_count": null,
   "id": "87865c5c-a13f-4e0f-94ee-f4b754f1ba8a",
   "metadata": {},
   "outputs": [],
   "source": []
  },
  {
   "cell_type": "code",
   "execution_count": null,
   "id": "78f5e946-9abc-47c6-80ba-248994451dec",
   "metadata": {},
   "outputs": [],
   "source": []
  },
  {
   "cell_type": "markdown",
   "id": "3227d5c6-f025-4b7d-89da-d80f1e05c1f6",
   "metadata": {},
   "source": [
    "Q3. Why is redirect() used in Flask?"
   ]
  },
  {
   "cell_type": "markdown",
   "id": "98dfeb19-f587-4cf2-b290-0a6977ddee3a",
   "metadata": {},
   "source": [
    "->> The redirect() function is used to redirect the user's browser to a different URL. This function is often used after a form submission or a     \n",
    "    successful login to redirect the user to a different page within the same website or to an external website.\n",
    "\n",
    "\n",
    "\n",
    "->> The redirect() function is a powerful tool in Flask that allows developers to control the user's browsing experience and redirect them to \n",
    "\n",
    "   different pages or external websites."
   ]
  },
  {
   "cell_type": "code",
   "execution_count": null,
   "id": "2eb0af36-fc8e-4204-a394-4b26004b9381",
   "metadata": {},
   "outputs": [],
   "source": []
  },
  {
   "cell_type": "code",
   "execution_count": null,
   "id": "5a2aed92-98d7-4e56-a397-74ec40a8b8f3",
   "metadata": {},
   "outputs": [],
   "source": []
  },
  {
   "cell_type": "code",
   "execution_count": null,
   "id": "9ca9a858-3be6-46e7-86bc-dcbe136247ab",
   "metadata": {},
   "outputs": [],
   "source": []
  },
  {
   "cell_type": "markdown",
   "id": "1a627bac-2fc0-4472-add5-12973aee8a3d",
   "metadata": {},
   "source": [
    "Q4. What are templates in Flask? Why is the render_template() function used?"
   ]
  },
  {
   "cell_type": "markdown",
   "id": "9f586529-a329-4659-9709-f6307a1a52c3",
   "metadata": {},
   "source": [
    "->> Templates are used to generate dynamic HTML pages that can display data from the server or accept user input. Templates are typically           \n",
    "    written in HTML, with placeholders for dynamic content and control structures such as loops and conditionals.\n",
    "\n",
    "->> The render_template() function is used to render a template and generate HTML output based on the data provided by the server. This function     \n",
    "    takes the name of the template file as its first argument, and any additional arguments are passed to the template as variables that can be     \n",
    "    used to generate dynamic content.\n"
   ]
  },
  {
   "cell_type": "code",
   "execution_count": null,
   "id": "2cd899a6-d92b-4e8e-b2ee-9c2e54214c19",
   "metadata": {},
   "outputs": [],
   "source": []
  },
  {
   "cell_type": "code",
   "execution_count": null,
   "id": "7fe02613-4e2f-4555-bf21-d0f91768426b",
   "metadata": {},
   "outputs": [],
   "source": []
  },
  {
   "cell_type": "code",
   "execution_count": null,
   "id": "550542f0-86da-453a-97d8-3b00ee5f33d9",
   "metadata": {},
   "outputs": [],
   "source": []
  },
  {
   "cell_type": "markdown",
   "id": "bc24de17-dca2-4b3e-8cd9-976af9a3c55e",
   "metadata": {},
   "source": [
    "Q5. Create a simple API. Use Postman to test it. Attach the screenshot of the output in the Jupyter Notebook."
   ]
  },
  {
   "cell_type": "code",
   "execution_count": null,
   "id": "1e5a523b-0fb2-4270-8258-ff67ac8999c5",
   "metadata": {},
   "outputs": [],
   "source": [
    "from flask import Flask\n",
    "from flask import request,jsonify\n",
    "\n",
    "app=Flask(__name__)\n",
    "\n",
    "\n",
    "@app.route(\"/postt\",methods=[\"GET\"])\n",
    "def task():\n",
    "    if(request.method ==\"GET\"):\n",
    "\n",
    "        operation = request.json[\"perform\"] \n",
    "        num1 = int(request.json[\"number1\"])\n",
    "        num2 = int(request.json[\"number2\"])\n",
    "        \n",
    "        if(operation==\"add\"):\n",
    "            result=num1 + num2\n",
    "        \n",
    "        if(operation==\"subtract\"):\n",
    "            result=num1 - num2\n",
    "\n",
    "        if(operation==\"multiply\"):\n",
    "            result=num1 * num2\n",
    "\n",
    "        if(operation==\"divide\"):\n",
    "            result=num1 / num2\n",
    "\n",
    "        if(operation==\"mod\"):\n",
    "            result=num1 % num2\n",
    "\n",
    "    return jsonify(result)\n",
    "\n",
    "\n",
    "\n",
    "if __name__== \"__main__\":\n",
    "    app.run(host=\"0.0.0.0\")"
   ]
  },
  {
   "cell_type": "code",
   "execution_count": null,
   "id": "7f3a4af8-8537-4962-927a-10b2cefcbf43",
   "metadata": {},
   "outputs": [],
   "source": []
  },
  {
   "cell_type": "code",
   "execution_count": null,
   "id": "40c82643-cff1-4df1-98fa-b5fba7fefd9f",
   "metadata": {},
   "outputs": [],
   "source": []
  }
 ],
 "metadata": {
  "kernelspec": {
   "display_name": "Python 3 (ipykernel)",
   "language": "python",
   "name": "python3"
  },
  "language_info": {
   "codemirror_mode": {
    "name": "ipython",
    "version": 3
   },
   "file_extension": ".py",
   "mimetype": "text/x-python",
   "name": "python",
   "nbconvert_exporter": "python",
   "pygments_lexer": "ipython3",
   "version": "3.10.8"
  }
 },
 "nbformat": 4,
 "nbformat_minor": 5
}
